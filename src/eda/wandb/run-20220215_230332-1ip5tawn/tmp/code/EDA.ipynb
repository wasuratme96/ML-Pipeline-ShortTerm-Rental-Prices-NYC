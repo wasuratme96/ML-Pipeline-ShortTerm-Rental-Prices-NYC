{
 "cells": [
  {
   "cell_type": "code",
   "execution_count": 3,
   "id": "9e437054",
   "metadata": {},
   "outputs": [],
   "source": [
    "import wandb\n",
    "import pandas as pd\n",
    "import pandas_profiling"
   ]
  },
  {
   "cell_type": "code",
   "execution_count": 4,
   "id": "fabea470",
   "metadata": {},
   "outputs": [
    {
     "name": "stderr",
     "output_type": "stream",
     "text": [
      "\u001b[34m\u001b[1mwandb\u001b[0m: Currently logged in as: \u001b[33mwasuratfirst\u001b[0m (use `wandb login --relogin` to force relogin)\n",
      "\u001b[34m\u001b[1mwandb\u001b[0m: wandb version 0.12.10 is available!  To upgrade, please run:\n",
      "\u001b[34m\u001b[1mwandb\u001b[0m:  $ pip install wandb --upgrade\n"
     ]
    },
    {
     "data": {
      "text/html": [
       "\n",
       "                Tracking run with wandb version 0.10.31<br/>\n",
       "                Syncing run <strong style=\"color:#cdcd00\">enthralling-heartthrob-2</strong> to <a href=\"https://wandb.ai\" target=\"_blank\">Weights & Biases</a> <a href=\"https://docs.wandb.com/integrations/jupyter.html\" target=\"_blank\">(Documentation)</a>.<br/>\n",
       "                Project page: <a href=\"https://wandb.ai/wasuratfirst/nyc_airbnb\" target=\"_blank\">https://wandb.ai/wasuratfirst/nyc_airbnb</a><br/>\n",
       "                Run page: <a href=\"https://wandb.ai/wasuratfirst/nyc_airbnb/runs/1ip5tawn\" target=\"_blank\">https://wandb.ai/wasuratfirst/nyc_airbnb/runs/1ip5tawn</a><br/>\n",
       "                Run data is saved locally in <code>/Users/wasuratsoontronchai/Documents/GitHub/ML-Pipeline-ShortTerm-Rental-Prices-NYC/src/eda/wandb/run-20220215_230332-1ip5tawn</code><br/><br/>\n",
       "            "
      ],
      "text/plain": [
       "<IPython.core.display.HTML object>"
      ]
     },
     "metadata": {},
     "output_type": "display_data"
    }
   ],
   "source": [
    "# Inital interfacing with weight and bias class\n",
    "run = wandb.init(project=\"nyc_airbnb\", group=\"eda\", save_code=True)\n",
    "\n",
    "# s\n",
    "local_path = wandb.use_artifact(\"sample.csv:latest\").file()\n",
    "\n",
    "# Convert artifact into pandas dataframe\n",
    "df = pd.read_csv(local_path)"
   ]
  },
  {
   "cell_type": "code",
   "execution_count": 5,
   "id": "f64abce8",
   "metadata": {},
   "outputs": [
    {
     "data": {
      "application/vnd.jupyter.widget-view+json": {
       "model_id": "c0d1589bf00e49248e04f9f1288c4103",
       "version_major": 2,
       "version_minor": 0
      },
      "text/plain": [
       "Summarize dataset:   0%|          | 0/29 [00:00<?, ?it/s]"
      ]
     },
     "metadata": {},
     "output_type": "display_data"
    },
    {
     "data": {
      "application/vnd.jupyter.widget-view+json": {
       "model_id": "8380f6efd5454f309864d4256ab36fb6",
       "version_major": 2,
       "version_minor": 0
      },
      "text/plain": [
       "Generate report structure:   0%|          | 0/1 [00:00<?, ?it/s]"
      ]
     },
     "metadata": {},
     "output_type": "display_data"
    },
    {
     "data": {
      "application/vnd.jupyter.widget-view+json": {
       "model_id": "",
       "version_major": 2,
       "version_minor": 0
      },
      "text/plain": [
       "Render widgets:   0%|          | 0/1 [00:00<?, ?it/s]"
      ]
     },
     "metadata": {},
     "output_type": "display_data"
    },
    {
     "data": {
      "application/vnd.jupyter.widget-view+json": {
       "model_id": "4bafae9741fc4033b6c73d19196b46dd",
       "version_major": 2,
       "version_minor": 0
      },
      "text/plain": [
       "VBox(children=(Tab(children=(Tab(children=(GridBox(children=(VBox(children=(GridspecLayout(children=(HTML(valu…"
      ]
     },
     "metadata": {},
     "output_type": "display_data"
    }
   ],
   "source": [
    "profile = pandas_profiling.ProfileReport(df)\n",
    "profile.to_widgets()"
   ]
  },
  {
   "cell_type": "markdown",
   "id": "cbd07bdd",
   "metadata": {},
   "source": [
    "### Data Cleaning\n",
    "#### Remove outliers\n",
    "- Remove outliers on ```price``` column\n",
    "- Remove outliser on ```minimum_nights``` column\n",
    "- Remove outliers on ```calculated_host_listings_count``` column"
   ]
  },
  {
   "cell_type": "code",
   "execution_count": 18,
   "id": "89af0c05",
   "metadata": {},
   "outputs": [
    {
     "data": {
      "text/plain": [
       "count    19001.000000\n",
       "mean       122.340456\n",
       "std         71.530346\n",
       "min         10.000000\n",
       "25%         66.000000\n",
       "50%        100.000000\n",
       "75%        160.000000\n",
       "max        350.000000\n",
       "Name: price, dtype: float64"
      ]
     },
     "execution_count": 18,
     "metadata": {},
     "output_type": "execute_result"
    }
   ],
   "source": [
    "# Get descriptive statistice on 'price'\n",
    "df['price'].describe()"
   ]
  },
  {
   "cell_type": "code",
   "execution_count": 17,
   "id": "eb335be7",
   "metadata": {},
   "outputs": [
    {
     "data": {
      "text/plain": [
       "count    19001.000000\n",
       "mean         6.906900\n",
       "std         21.456544\n",
       "min          1.000000\n",
       "25%          1.000000\n",
       "50%          2.000000\n",
       "75%          5.000000\n",
       "max       1250.000000\n",
       "Name: minimum_nights, dtype: float64"
      ]
     },
     "execution_count": 17,
     "metadata": {},
     "output_type": "execute_result"
    }
   ],
   "source": [
    "# Get descriptive statistice on 'minimum_nights'\n",
    "df['minimum_nights'].describe()"
   ]
  },
  {
   "cell_type": "code",
   "execution_count": 14,
   "id": "7c984347",
   "metadata": {},
   "outputs": [
    {
     "data": {
      "text/plain": [
       "count    20000.000000\n",
       "mean         6.955450\n",
       "std         32.433831\n",
       "min          1.000000\n",
       "25%          1.000000\n",
       "50%          1.000000\n",
       "75%          2.000000\n",
       "max        327.000000\n",
       "Name: calculated_host_listings_count, dtype: float64"
      ]
     },
     "execution_count": 14,
     "metadata": {},
     "output_type": "execute_result"
    }
   ],
   "source": [
    "# Get descriptive statistice on 'calculated_host_listings_count'\n",
    "df['calculated_host_listings_count'].describe()"
   ]
  },
  {
   "cell_type": "code",
   "execution_count": 19,
   "id": "9fa62053",
   "metadata": {},
   "outputs": [],
   "source": [
    "# Drop outliers on price\n",
    "min_price = 10\n",
    "max_price = 350\n",
    "\n",
    "idx_price = df[\"price\"].between(min_price, max_price)\n",
    "df = df[idx_price].copy()\n",
    "\n",
    "# Drop outliers on minimum_night\n",
    "min_night = 1\n",
    "max_night = 100\n",
    "\n",
    "idx_night = df[\"minimum_nights\"].between(min_night, max_night)\n",
    "df = df[idx_night].copy()\n",
    "\n",
    "# Drop on  calculated_host_listings_count \n",
    "min_listing_count = 1\n",
    "max_listing_count = 20\n",
    "idx_listing = df[\"calculated_host_listings_count\"].between(min_night, max_night)\n",
    "df = df[idx_listing].copy()\n",
    "\n",
    "# Drop outlier on sd\n",
    "#Convert last_review to datetime\n",
    "df['last_review'] = pd.to_datetime(df['last_review'])"
   ]
  },
  {
   "cell_type": "code",
   "execution_count": 20,
   "id": "99c4c379",
   "metadata": {},
   "outputs": [
    {
     "name": "stdout",
     "output_type": "stream",
     "text": [
      "<class 'pandas.core.frame.DataFrame'>\n",
      "Int64Index: 18669 entries, 0 to 19999\n",
      "Data columns (total 16 columns):\n",
      " #   Column                          Non-Null Count  Dtype         \n",
      "---  ------                          --------------  -----         \n",
      " 0   id                              18669 non-null  int64         \n",
      " 1   name                            18662 non-null  object        \n",
      " 2   host_id                         18669 non-null  int64         \n",
      " 3   host_name                       18661 non-null  object        \n",
      " 4   neighbourhood_group             18669 non-null  object        \n",
      " 5   neighbourhood                   18669 non-null  object        \n",
      " 6   latitude                        18669 non-null  float64       \n",
      " 7   longitude                       18669 non-null  float64       \n",
      " 8   room_type                       18669 non-null  object        \n",
      " 9   price                           18669 non-null  int64         \n",
      " 10  minimum_nights                  18669 non-null  int64         \n",
      " 11  number_of_reviews               18669 non-null  int64         \n",
      " 12  last_review                     15094 non-null  datetime64[ns]\n",
      " 13  reviews_per_month               15094 non-null  float64       \n",
      " 14  calculated_host_listings_count  18669 non-null  int64         \n",
      " 15  availability_365                18669 non-null  int64         \n",
      "dtypes: datetime64[ns](1), float64(3), int64(7), object(5)\n",
      "memory usage: 2.4+ MB\n"
     ]
    }
   ],
   "source": [
    "\n",
    "df.info()"
   ]
  },
  {
   "cell_type": "code",
   "execution_count": null,
   "id": "0c8c53e8",
   "metadata": {},
   "outputs": [],
   "source": [
    "\n",
    "ru"
   ]
  }
 ],
 "metadata": {
  "kernelspec": {
   "display_name": "Python 3 (ipykernel)",
   "language": "python",
   "name": "python3"
  },
  "language_info": {
   "codemirror_mode": {
    "name": "ipython",
    "version": 3
   },
   "file_extension": ".py",
   "mimetype": "text/x-python",
   "name": "python",
   "nbconvert_exporter": "python",
   "pygments_lexer": "ipython3",
   "version": "3.8.12"
  }
 },
 "nbformat": 4,
 "nbformat_minor": 5
}
